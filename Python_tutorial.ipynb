{
  "nbformat": 4,
  "nbformat_minor": 0,
  "metadata": {
    "colab": {
      "name": "Python tutorial.ipynb",
      "version": "0.3.2",
      "provenance": [],
      "include_colab_link": true
    },
    "kernelspec": {
      "name": "python3",
      "display_name": "Python 3"
    }
  },
  "cells": [
    {
      "cell_type": "markdown",
      "metadata": {
        "id": "view-in-github",
        "colab_type": "text"
      },
      "source": [
        "[View in Colaboratory](https://colab.research.google.com/github/Solero93/bcn-algorithm-club-py/blob/master/Python_tutorial.ipynb)"
      ]
    },
    {
      "metadata": {
        "id": "UmviZUnYReHp",
        "colab_type": "text"
      },
      "cell_type": "markdown",
      "source": [
        "# Showing through Python features using a simple problem"
      ]
    },
    {
      "metadata": {
        "id": "WcZLngTcOm5n",
        "colab_type": "text"
      },
      "cell_type": "markdown",
      "source": [
        "## Write a program that prints out all elements of a list less than 5.\n",
        "\n"
      ]
    },
    {
      "metadata": {
        "id": "ME37icF_Oqo_",
        "colab_type": "code",
        "colab": {}
      },
      "cell_type": "code",
      "source": [
        "def elements_less_than_5(numbers: list) -> None:\n",
        "  pass\n",
        "  # TODO Your code goes here"
      ],
      "execution_count": 0,
      "outputs": []
    },
    {
      "metadata": {
        "id": "9svFug5ZO2b8",
        "colab_type": "text"
      },
      "cell_type": "markdown",
      "source": [
        "### 1. With for, if and prints"
      ]
    },
    {
      "metadata": {
        "id": "x4nM8IXiOxXM",
        "colab_type": "code",
        "colab": {}
      },
      "cell_type": "code",
      "source": [
        "def elements_less_than_5(numbers: list) -> None:\n",
        "  for i in range(len(numbers)):\n",
        "    current_number = numbers[i]\n",
        "    if current_number < 5:\n",
        "      print(current_number)"
      ],
      "execution_count": 0,
      "outputs": []
    },
    {
      "metadata": {
        "id": "APTJVvgiPnYY",
        "colab_type": "text"
      },
      "cell_type": "markdown",
      "source": [
        "### 2. With for, if, append and print of final list"
      ]
    },
    {
      "metadata": {
        "id": "hbh3nzBgPtn2",
        "colab_type": "code",
        "colab": {}
      },
      "cell_type": "code",
      "source": [
        "def elements_less_than_5(numbers: list) -> None:\n",
        "  numbers_less_than_5 = []\n",
        "  for current_number in numbers:\n",
        "    if current_number < 5:\n",
        "      numbers_less_than_5.append(current_number)\n",
        "  print(numbers_less_than_5)"
      ],
      "execution_count": 0,
      "outputs": []
    },
    {
      "metadata": {
        "id": "68PSOvHmSn6X",
        "colab_type": "text"
      },
      "cell_type": "markdown",
      "source": [
        "### 3. With *args"
      ]
    },
    {
      "metadata": {
        "id": "bYQQktB3Sq9f",
        "colab_type": "code",
        "colab": {}
      },
      "cell_type": "code",
      "source": [
        "def elements_less_than_5(numbers: list) -> None:\n",
        "  numbers_less_than_5 = []\n",
        "  for current_number in numbers:\n",
        "    if current_number < 5:\n",
        "      numbers_less_than_5.append(current_number)\n",
        "  print(*numbers_less_than_5)"
      ],
      "execution_count": 0,
      "outputs": []
    },
    {
      "metadata": {
        "id": "bfb7RKmWU3aA",
        "colab_type": "text"
      },
      "cell_type": "markdown",
      "source": [
        "### 4. With list comprehension"
      ]
    },
    {
      "metadata": {
        "id": "zk2nrsiUU5MW",
        "colab_type": "code",
        "colab": {}
      },
      "cell_type": "code",
      "source": [
        "def elements_less_than_5(numbers: list) -> None:\n",
        "  numbers_less_than_5 = [number for number in numbers if number < 5]\n",
        "  print(*numbers_less_than_5)"
      ],
      "execution_count": 0,
      "outputs": []
    },
    {
      "metadata": {
        "id": "9C9pD0RdQF1f",
        "colab_type": "text"
      },
      "cell_type": "markdown",
      "source": [
        "### 5. With filter"
      ]
    },
    {
      "metadata": {
        "id": "jyVVRXfPP-en",
        "colab_type": "code",
        "colab": {}
      },
      "cell_type": "code",
      "source": [
        "def elements_less_than_5(numbers: list) -> None:\n",
        "  numbers_less_than_5 = filter(lambda number: number < 5, numbers)\n",
        "  print(*numbers_less_than_5)"
      ],
      "execution_count": 0,
      "outputs": []
    },
    {
      "metadata": {
        "id": "jQ860ZkdLR6Y",
        "colab_type": "text"
      },
      "cell_type": "markdown",
      "source": [
        "### 6. With dicts"
      ]
    },
    {
      "metadata": {
        "id": "wW11qNkuLVpQ",
        "colab_type": "code",
        "colab": {}
      },
      "cell_type": "code",
      "source": [
        "def elements_less_than_5(numbers: list) -> None:\n",
        "  number_partition_dict = {'less_than_5': [], 'more_or_equal_to_5': []}\n",
        "  for number in numbers:\n",
        "    if number < 5:\n",
        "      number_partition_dict['less_than_5'].append(number)\n",
        "    else:\n",
        "      number_partition_dict['more_or_equal_to_5'].append(number)\n",
        "  print(*number_partition_dict['less_than_5'])"
      ],
      "execution_count": 0,
      "outputs": []
    },
    {
      "metadata": {
        "id": "U82ajq7IYKlf",
        "colab_type": "text"
      },
      "cell_type": "markdown",
      "source": [
        "### 7. Reading numbers from file where each number is on a separate line"
      ]
    },
    {
      "metadata": {
        "id": "MTFypNaoYOX1",
        "colab_type": "code",
        "colab": {}
      },
      "cell_type": "code",
      "source": [
        "def elements_less_than_5(numbers_filename: str) -> None:\n",
        "  with open(numbers_filename, 'r') as numbers_file:\n",
        "    numbers = numbers_file.readlines()\n",
        "  print(*[number for number in numbers if number < 5])"
      ],
      "execution_count": 0,
      "outputs": []
    },
    {
      "metadata": {
        "id": "SpgNQmzqbQgN",
        "colab_type": "text"
      },
      "cell_type": "markdown",
      "source": [
        "### 8. Reading numbers from a file where each number is on the same line, separated by commas"
      ]
    },
    {
      "metadata": {
        "id": "mc5DjKQRbXRk",
        "colab_type": "code",
        "colab": {}
      },
      "cell_type": "code",
      "source": [
        "def elements_less_than_5(numbers_filename: str) -> None:\n",
        "  with open(numbers_filename, 'r') as numbers_file:\n",
        "    numbers_line: str = numbers_file.readline()\n",
        "  numbers_str_list: list = numbers_list_string.split(',')\n",
        "  numbers = map(lambda number_str: int(number_str), numbers_str_list)\n",
        "  print(*[number for number in numbers if number < 5])"
      ],
      "execution_count": 0,
      "outputs": []
    },
    {
      "metadata": {
        "id": "u3pdtcyfemjV",
        "colab_type": "text"
      },
      "cell_type": "markdown",
      "source": [
        "### 9. With generators"
      ]
    },
    {
      "metadata": {
        "id": "WK3E6gNleove",
        "colab_type": "code",
        "colab": {}
      },
      "cell_type": "code",
      "source": [
        "def less_than_5_generator(numbers):\n",
        "  for number in numbers:\n",
        "    if number < 5:\n",
        "      yield number\n",
        "\n",
        "def elements_less_than_5(numbers: list) -> None:\n",
        "  print(*less_than_5_generator(numbers))"
      ],
      "execution_count": 0,
      "outputs": []
    },
    {
      "metadata": {
        "id": "bKOwFB3eglMF",
        "colab_type": "text"
      },
      "cell_type": "markdown",
      "source": [
        "### 10. With LRU-cache"
      ]
    },
    {
      "metadata": {
        "id": "9i8cgdMDgngP",
        "colab_type": "code",
        "colab": {}
      },
      "cell_type": "code",
      "source": [
        "from functools import lru_cache\n",
        "\n",
        "@lru_cache(maxsize=None)\n",
        "def is_number_less_than_5(number):\n",
        "  return number < 5\n",
        "\n",
        "def elements_less_than_5(numbers: list) -> None:\n",
        "  print(*[number for number in numbers if is_number_less_than_5(number)])"
      ],
      "execution_count": 0,
      "outputs": []
    },
    {
      "metadata": {
        "id": "_02dbOEncU91",
        "colab_type": "text"
      },
      "cell_type": "markdown",
      "source": [
        "### 11. With multiprocessing"
      ]
    },
    {
      "metadata": {
        "id": "Yhb7POqDcbvV",
        "colab_type": "code",
        "colab": {}
      },
      "cell_type": "code",
      "source": [
        "from multiprocessing import Pool\n",
        "\n",
        "def print_if_less_than_5(x):\n",
        "  if x < 5:\n",
        "    print(x)\n",
        "\n",
        "def elements_less_than_5(numbers: list) -> None:\n",
        "  with Pool(processes=4) as pool:\n",
        "    pool.map(print_if_less_than_5, numbers)"
      ],
      "execution_count": 0,
      "outputs": []
    },
    {
      "metadata": {
        "id": "sDsq74wRK9TH",
        "colab_type": "text"
      },
      "cell_type": "markdown",
      "source": [
        "## + Antigravity"
      ]
    },
    {
      "metadata": {
        "id": "QvMYYfRdLBIP",
        "colab_type": "code",
        "colab": {}
      },
      "cell_type": "code",
      "source": [
        "import antigravity"
      ],
      "execution_count": 0,
      "outputs": []
    },
    {
      "metadata": {
        "id": "CKHcslg7V2YY",
        "colab_type": "text"
      },
      "cell_type": "markdown",
      "source": [
        "# Write FizzBuzz using whatever you feel like. The more ways, the better."
      ]
    },
    {
      "metadata": {
        "id": "vW7cXKvvWA6_",
        "colab_type": "text"
      },
      "cell_type": "markdown",
      "source": [
        "## Write a program that for each number from 0 to 100 prints:\n",
        "- Fizz if the number is divisible by 3\n",
        "- Buzz if the number is divisible by 5\n",
        "- FizzBuzz if the number is divisible by 15\n",
        "- the number itself otherwise"
      ]
    },
    {
      "metadata": {
        "id": "XeVL1-FzV7q-",
        "colab_type": "code",
        "colab": {}
      },
      "cell_type": "code",
      "source": [
        "def fizzbuzz() -> None:\n",
        "  pass\n",
        "  # TODO Your code goes here"
      ],
      "execution_count": 0,
      "outputs": []
    }
  ]
}