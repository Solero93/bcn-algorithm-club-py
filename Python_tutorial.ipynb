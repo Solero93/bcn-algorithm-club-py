{
  "nbformat": 4,
  "nbformat_minor": 0,
  "metadata": {
    "colab": {
      "name": "Python tutorial.ipynb",
      "version": "0.3.2",
      "provenance": [],
      "include_colab_link": true
    },
    "kernelspec": {
      "name": "python3",
      "display_name": "Python 3"
    }
  },
  "cells": [
    {
      "cell_type": "markdown",
      "metadata": {
        "id": "view-in-github",
        "colab_type": "text"
      },
      "source": [
        "[View in Colaboratory](https://colab.research.google.com/github/Solero93/bcn-algorithm-club-py/blob/master/Python_tutorial.ipynb)"
      ]
    },
    {
      "metadata": {
        "id": "UmviZUnYReHp",
        "colab_type": "text"
      },
      "cell_type": "markdown",
      "source": [
        "# Showing through Python features using a simple problem"
      ]
    },
    {
      "metadata": {
        "id": "WcZLngTcOm5n",
        "colab_type": "text"
      },
      "cell_type": "markdown",
      "source": [
        "## Write a program that prints out all elements of a list less than 5.\n",
        "\n"
      ]
    },
    {
      "metadata": {
        "id": "ME37icF_Oqo_",
        "colab_type": "code",
        "colab": {}
      },
      "cell_type": "code",
      "source": [
        "def elements_less_than_5(numbers: list) -> None:\n",
        "  # TODO Your code goes here\n",
        "  pass"
      ],
      "execution_count": 0,
      "outputs": []
    },
    {
      "metadata": {
        "id": "9svFug5ZO2b8",
        "colab_type": "text"
      },
      "cell_type": "markdown",
      "source": [
        "### 1. With for, if and prints"
      ]
    },
    {
      "metadata": {
        "id": "x4nM8IXiOxXM",
        "colab_type": "code",
        "colab": {}
      },
      "cell_type": "code",
      "source": [
        "def elements_less_than_5(numbers: list) -> None:\n",
        "  for i in range(len(numbers)):\n",
        "    current_number = numbers[i]\n",
        "    if current_number < 5:\n",
        "      print(current_number)\n",
        "      \n",
        "elements_less_than_5([1,2,4,6,8,9,1,2,4,5,6,1])"
      ],
      "execution_count": 0,
      "outputs": []
    },
    {
      "metadata": {
        "id": "APTJVvgiPnYY",
        "colab_type": "text"
      },
      "cell_type": "markdown",
      "source": [
        "### 2. With for, if, append and print of final list"
      ]
    },
    {
      "metadata": {
        "id": "hbh3nzBgPtn2",
        "colab_type": "code",
        "colab": {}
      },
      "cell_type": "code",
      "source": [
        "def elements_less_than_5(numbers: list) -> None:\n",
        "  numbers_less_than_5 = []\n",
        "  for current_number in numbers:\n",
        "    if current_number < 5:\n",
        "      numbers_less_than_5.append(current_number)\n",
        "  print(numbers_less_than_5)\n",
        "  \n",
        "elements_less_than_5([1,2,4,6,8,9,1,2,4,5,6,1])"
      ],
      "execution_count": 0,
      "outputs": []
    },
    {
      "metadata": {
        "id": "68PSOvHmSn6X",
        "colab_type": "text"
      },
      "cell_type": "markdown",
      "source": [
        "### 3. With *args"
      ]
    },
    {
      "metadata": {
        "id": "bYQQktB3Sq9f",
        "colab_type": "code",
        "colab": {}
      },
      "cell_type": "code",
      "source": [
        "def elements_less_than_5(numbers: list) -> None:\n",
        "  numbers_less_than_5 = []\n",
        "  for current_number in numbers:\n",
        "    if current_number < 5:\n",
        "      numbers_less_than_5.append(current_number)\n",
        "  print(*numbers_less_than_5)\n",
        "  \n",
        "elements_less_than_5([1,2,4,6,8,9,1,2,4,5,6,1])\n"
      ],
      "execution_count": 0,
      "outputs": []
    },
    {
      "metadata": {
        "id": "bfb7RKmWU3aA",
        "colab_type": "text"
      },
      "cell_type": "markdown",
      "source": [
        "### 4. With list comprehension"
      ]
    },
    {
      "metadata": {
        "id": "zk2nrsiUU5MW",
        "colab_type": "code",
        "colab": {}
      },
      "cell_type": "code",
      "source": [
        "def elements_less_than_5(numbers: list) -> None:\n",
        "  numbers_less_than_5 = list(number for number in numbers if number < 5)\n",
        "  print(*numbers_less_than_5)\n",
        "  \n",
        "elements_less_than_5([1,2,4,6,8,9,1,2,4,5,6,1])"
      ],
      "execution_count": 0,
      "outputs": []
    },
    {
      "metadata": {
        "id": "9C9pD0RdQF1f",
        "colab_type": "text"
      },
      "cell_type": "markdown",
      "source": [
        "### 5. With filter"
      ]
    },
    {
      "metadata": {
        "id": "jyVVRXfPP-en",
        "colab_type": "code",
        "colab": {}
      },
      "cell_type": "code",
      "source": [
        "def elements_less_than_5(numbers: list) -> None:\n",
        "  numbers_less_than_5 = filter(lambda number: number < 5, numbers)\n",
        "  print(*numbers_less_than_5)\n",
        "\n",
        "elements_less_than_5([1,2,4,6,8,9,1,2,4,5,6,1])"
      ],
      "execution_count": 0,
      "outputs": []
    },
    {
      "metadata": {
        "id": "jQ860ZkdLR6Y",
        "colab_type": "text"
      },
      "cell_type": "markdown",
      "source": [
        "### 6. With dicts"
      ]
    },
    {
      "metadata": {
        "id": "wW11qNkuLVpQ",
        "colab_type": "code",
        "colab": {}
      },
      "cell_type": "code",
      "source": [
        "def elements_less_than_5(numbers: list) -> None:\n",
        "  number_partition_dict = {'less_than_5': [], 'more_or_equal_to_5': []}\n",
        "  for number in numbers:\n",
        "    if number < 5:\n",
        "      number_partition_dict['less_than_5'].append(number)\n",
        "    else:\n",
        "      number_partition_dict['more_or_equal_to_5'].append(number)\n",
        "  print(*number_partition_dict['less_than_5'])\n",
        "\n",
        "elements_less_than_5([1,2,4,6,8,9,1,2,4,5,6,1])"
      ],
      "execution_count": 0,
      "outputs": []
    },
    {
      "metadata": {
        "id": "fBGBkxbmOW1p",
        "colab_type": "text"
      },
      "cell_type": "markdown",
      "source": [
        "### 7. With classes"
      ]
    },
    {
      "metadata": {
        "id": "8xRhf2aiOZda",
        "colab_type": "code",
        "colab": {}
      },
      "cell_type": "code",
      "source": [
        "class MyNumber:\n",
        "  def __init__(self, number: int):\n",
        "    self.number = number\n",
        "    \n",
        "  def print_if_less_than_five(self):\n",
        "    if self.number < 5:\n",
        "      print(self.number)\n",
        "\n",
        "def elements_less_than_5(numbers: list) -> None:\n",
        "  for number in numbers:\n",
        "    number_object: MyNumber = MyNumber(number)\n",
        "    number_object.print_if_less_than_five()\n",
        "    \n",
        "elements_less_than_5([1,2,4,6,8,9,1,2,4,5,6,1])"
      ],
      "execution_count": 0,
      "outputs": []
    },
    {
      "metadata": {
        "id": "nWNnBAaqOvT6",
        "colab_type": "text"
      },
      "cell_type": "markdown",
      "source": [
        "### 8. With error handling"
      ]
    },
    {
      "metadata": {
        "id": "T3aAfbdFOzLC",
        "colab_type": "code",
        "colab": {}
      },
      "cell_type": "code",
      "source": [
        "def elements_less_than_5(numbers: list) -> None:\n",
        "  for number in numbers:\n",
        "    try:\n",
        "      assert number < 5\n",
        "      print(number)\n",
        "    except:\n",
        "      continue\n",
        "    \n",
        "elements_less_than_5([1,2,4,6,8,9,1,2,4,5,6,1])"
      ],
      "execution_count": 0,
      "outputs": []
    },
    {
      "metadata": {
        "id": "U82ajq7IYKlf",
        "colab_type": "text"
      },
      "cell_type": "markdown",
      "source": [
        "### 9. Reading numbers from file where each number is on a separate line"
      ]
    },
    {
      "metadata": {
        "id": "MTFypNaoYOX1",
        "colab_type": "code",
        "colab": {}
      },
      "cell_type": "code",
      "source": [
        "def elements_less_than_5(numbers_filename: str) -> None:\n",
        "  with open(numbers_filename, 'r') as numbers_file:\n",
        "    numbers_str_list = numbers_file.readlines()\n",
        "    numbers = map(lambda number_str: int(number_str), numbers_str_list)\n",
        "    # Alternative way with list comprehension\n",
        "    numbers = [int(number) for number in numbers_str_list]\n",
        "  print(*[number for number in numbers if number < 5])\n",
        "    \n",
        "elements_less_than_5('file_where_each_number_is_on_separate_line.txt')"
      ],
      "execution_count": 0,
      "outputs": []
    },
    {
      "metadata": {
        "id": "SpgNQmzqbQgN",
        "colab_type": "text"
      },
      "cell_type": "markdown",
      "source": [
        "### 10. Reading numbers from a file where each number is on the same line, separated by commas"
      ]
    },
    {
      "metadata": {
        "id": "mc5DjKQRbXRk",
        "colab_type": "code",
        "colab": {}
      },
      "cell_type": "code",
      "source": [
        "def elements_less_than_5(numbers_filename: str) -> None:\n",
        "  with open(numbers_filename, 'r') as numbers_file:\n",
        "    numbers_line: str = numbers_file.readline()\n",
        "  numbers_str_list: list = numbers_line.split(',')\n",
        "  numbers = map(lambda number_str: int(number_str), numbers_str_list)\n",
        "  print(*[number for number in numbers if number < 5])\n",
        "    \n",
        "elements_less_than_5('file_where_each_number_is_on_same_line_separated_by_commas.txt')"
      ],
      "execution_count": 0,
      "outputs": []
    },
    {
      "metadata": {
        "id": "u3pdtcyfemjV",
        "colab_type": "text"
      },
      "cell_type": "markdown",
      "source": [
        "### 11. With generators"
      ]
    },
    {
      "metadata": {
        "id": "WK3E6gNleove",
        "colab_type": "code",
        "colab": {}
      },
      "cell_type": "code",
      "source": [
        "def less_than_5_generator(numbers):\n",
        "  a = 1\n",
        "  for number in numbers:\n",
        "    if number < 5:\n",
        "      a+=1\n",
        "      yield number\n",
        "\n",
        "def elements_less_than_5(numbers: list) -> None:\n",
        "  for number in less_than_5_generator(numbers):\n",
        "    print(number)\n",
        "    \n",
        "elements_less_than_5([1,2,4,6,8,9,1,2,4,5,6,1])"
      ],
      "execution_count": 0,
      "outputs": []
    },
    {
      "metadata": {
        "id": "bKOwFB3eglMF",
        "colab_type": "text"
      },
      "cell_type": "markdown",
      "source": [
        "### 12. With LRU-cache"
      ]
    },
    {
      "metadata": {
        "id": "9i8cgdMDgngP",
        "colab_type": "code",
        "colab": {}
      },
      "cell_type": "code",
      "source": [
        "from functools import lru_cache\n",
        "\n",
        "@lru_cache(maxsize=None)\n",
        "def is_number_less_than_5(number):\n",
        "  return number < 5\n",
        "\n",
        "def elements_less_than_5(numbers: list) -> None:\n",
        "  print(*[number for number in numbers if is_number_less_than_5(number)])\n",
        "    \n",
        "elements_less_than_5([1,2,4,6,8,9,1,2,4,5,6,1])"
      ],
      "execution_count": 0,
      "outputs": []
    },
    {
      "metadata": {
        "id": "_02dbOEncU91",
        "colab_type": "text"
      },
      "cell_type": "markdown",
      "source": [
        "### 13. With multiprocessing"
      ]
    },
    {
      "metadata": {
        "id": "Yhb7POqDcbvV",
        "colab_type": "code",
        "colab": {}
      },
      "cell_type": "code",
      "source": [
        "from multiprocessing import Pool\n",
        "\n",
        "def print_if_less_than_5(x):\n",
        "  if x < 5:\n",
        "    print(x)\n",
        "\n",
        "def elements_less_than_5(numbers: list) -> None:\n",
        "  with Pool(processes=4) as pool:\n",
        "    pool.map(print_if_less_than_5, numbers)\n",
        "    \n",
        "elements_less_than_5([1,2,4,6,8,9,1,2,4,5,6,1])"
      ],
      "execution_count": 0,
      "outputs": []
    },
    {
      "metadata": {
        "id": "sDsq74wRK9TH",
        "colab_type": "text"
      },
      "cell_type": "markdown",
      "source": [
        "## + Antigravity"
      ]
    },
    {
      "metadata": {
        "id": "QvMYYfRdLBIP",
        "colab_type": "code",
        "colab": {}
      },
      "cell_type": "code",
      "source": [
        "import antigravity"
      ],
      "execution_count": 0,
      "outputs": []
    },
    {
      "metadata": {
        "id": "rYDZnU_AxWlf",
        "colab_type": "text"
      },
      "cell_type": "markdown",
      "source": [
        "### + Python Zen"
      ]
    },
    {
      "metadata": {
        "id": "ghIzcdkBxmXX",
        "colab_type": "code",
        "colab": {
          "base_uri": "https://localhost:8080/",
          "height": 399
        },
        "outputId": "1f7a15c1-0608-4655-9a33-e1b931d628b8"
      },
      "cell_type": "code",
      "source": [
        "import this"
      ],
      "execution_count": 54,
      "outputs": [
        {
          "output_type": "stream",
          "text": [
            "The Zen of Python, by Tim Peters\n",
            "\n",
            "Beautiful is better than ugly.\n",
            "Explicit is better than implicit.\n",
            "Simple is better than complex.\n",
            "Complex is better than complicated.\n",
            "Flat is better than nested.\n",
            "Sparse is better than dense.\n",
            "Readability counts.\n",
            "Special cases aren't special enough to break the rules.\n",
            "Although practicality beats purity.\n",
            "Errors should never pass silently.\n",
            "Unless explicitly silenced.\n",
            "In the face of ambiguity, refuse the temptation to guess.\n",
            "There should be one-- and preferably only one --obvious way to do it.\n",
            "Although that way may not be obvious at first unless you're Dutch.\n",
            "Now is better than never.\n",
            "Although never is often better than *right* now.\n",
            "If the implementation is hard to explain, it's a bad idea.\n",
            "If the implementation is easy to explain, it may be a good idea.\n",
            "Namespaces are one honking great idea -- let's do more of those!\n"
          ],
          "name": "stdout"
        }
      ]
    },
    {
      "metadata": {
        "id": "CKHcslg7V2YY",
        "colab_type": "text"
      },
      "cell_type": "markdown",
      "source": [
        "# Write FizzBuzz using whatever you feel like. The more ways, the better."
      ]
    },
    {
      "metadata": {
        "id": "vW7cXKvvWA6_",
        "colab_type": "text"
      },
      "cell_type": "markdown",
      "source": [
        "## Write a program that for each number from 0 to 100 prints:\n",
        "- Fizz if the number is divisible by 3\n",
        "- Buzz if the number is divisible by 5\n",
        "- FizzBuzz if the number is divisible by 15\n",
        "- the number itself otherwise"
      ]
    },
    {
      "metadata": {
        "id": "XeVL1-FzV7q-",
        "colab_type": "code",
        "colab": {}
      },
      "cell_type": "code",
      "source": [
        "def fizzbuzz() -> None:\n",
        "  # TODO Your code goes here\n",
        "  pass"
      ],
      "execution_count": 0,
      "outputs": []
    }
  ]
}